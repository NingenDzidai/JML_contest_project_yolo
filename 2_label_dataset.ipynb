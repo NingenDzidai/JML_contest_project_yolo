{
 "cells": [
  {
   "cell_type": "code",
   "execution_count": null,
   "id": "543756d0",
   "metadata": {},
   "outputs": [],
   "source": [
    "%pip install ultralytics"
   ]
  },
  {
   "cell_type": "code",
   "execution_count": 1,
   "id": "91800ec7",
   "metadata": {},
   "outputs": [],
   "source": [
    "import os\n",
    "import random\n",
    "import shutil\n",
    "from ultralytics import YOLO\n",
    "from glob import glob"
   ]
  },
  {
   "cell_type": "code",
   "execution_count": null,
   "id": "c4c4ac90",
   "metadata": {},
   "outputs": [],
   "source": [
    "class LabelUtilsYOLOv8:\n",
    "\n",
    "    # Перемешиваем нарезанные картинки(т.е. меняем местами названиям картинок)\n",
    "    def create_shuffled_images_folder(self):\n",
    "        if not os.path.exists(\"shuffled_images\"):\n",
    "            os.mkdir(\"shuffled_images\")\n",
    "\n",
    "        image_files = [f for f in os.listdir(\"images\") if f.endswith(\".jpg\")]\n",
    "        random.shuffle(image_files)\n",
    "\n",
    "        for img in image_files:\n",
    "            new_img_name = f\"shuffled_images/img_{len(os.listdir('shuffled_images'))}.jpg\"\n",
    "            os.rename(f\"images/{img}\", new_img_name)\n",
    "    \n",
    "    # Перемещаем перемешанный картинки и их лейблы в папку obj, архивируем её\n",
    "    def create_labeled_images_zip_file(self):\n",
    "        if not os.path.exists(\"obj\"):\n",
    "            os.mkdir(\"obj\")\n",
    "\n",
    "        for txt_file in glob(\"shuffled_images/*.txt\"):\n",
    "            base_name = os.path.splitext(os.path.basename(txt_file))[0]\n",
    "            shutil.move(txt_file, f\"obj/{base_name}.txt\")\n",
    "            shutil.move(f\"shuffled_images/{base_name}.jpg\", f\"obj/{base_name}.jpg\")\n",
    "\n",
    "        shutil.make_archive('yolov8/obj', 'zip', 'obj')\n",
    "\n",
    "    # Делаем конфиг для YOLOv8\n",
    "    def update_config_files(self, classes):\n",
    "        data_yaml_content = f\"names: {classes}\\nnc: {len(classes)}\\ntrain: ../obj\\nval: ../obj\"\n",
    "        with open(\"./yolov8/data.yaml\", \"w\") as file:\n",
    "            file.write(data_yaml_content)\n",
    "\n",
    "\n",
    "\n"
   ]
  },
  {
   "cell_type": "code",
   "execution_count": null,
   "id": "0f917840",
   "metadata": {},
   "outputs": [],
   "source": [
    "# Обрабатываем датасет и делаем конфиг\n",
    "label_utils = LabelUtilsYOLOv8()\n",
    "label_utils.create_shuffled_images_folder()\n",
    "label_utils.create_labeled_images_zip_file()\n",
    "label_utils.update_config_files(['rat'])  # В аргументе имена классов которые залейблили"
   ]
  }
 ],
 "metadata": {
  "kernelspec": {
   "display_name": "Python 3 (ipykernel)",
   "language": "python",
   "name": "python3"
  },
  "language_info": {
   "codemirror_mode": {
    "name": "ipython",
    "version": 3
   },
   "file_extension": ".py",
   "mimetype": "text/x-python",
   "name": "python",
   "nbconvert_exporter": "python",
   "pygments_lexer": "ipython3",
   "version": "3.11.2"
  }
 },
 "nbformat": 4,
 "nbformat_minor": 5
}
