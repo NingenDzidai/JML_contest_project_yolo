{
 "cells": [
  {
   "cell_type": "code",
   "execution_count": 2,
   "metadata": {},
   "outputs": [],
   "source": [
    "import cv2\n",
    "import numpy as np"
   ]
  },
  {
   "cell_type": "code",
   "execution_count": 3,
   "metadata": {},
   "outputs": [],
   "source": [
    "# Указываем путь до видео, конфига и файла с весами\n",
    "video_name = \"G:/Programming/JML_contest/jml_sources/rat.mp4\"\n",
    "cfg_file_name = \"./yolov4-tiny/yolov4-tiny-custom.cfg\"\n",
    "weights_file_name = \"yolov4-tiny-custom_last.weights\""
   ]
  },
  {
   "cell_type": "code",
   "execution_count": null,
   "metadata": {},
   "outputs": [],
   "source": [
    "# Загрузка YOLO\n",
    "net = cv2.dnn.readNet(weights_file_name, cfg_file_name)\n",
    "layer_names = net.getLayerNames()\n",
    "output_layers = [layer_names[i-1] for i in net.getUnconnectedOutLayers()]"
   ]
  },
  {
   "cell_type": "code",
   "execution_count": 5,
   "metadata": {},
   "outputs": [],
   "source": [
    "# Загрузка имен классов\n",
    "with open('yolov4-tiny/obj.names', \"r\") as f:\n",
    "    classes = [line.strip() for line in f.readlines()]"
   ]
  },
  {
   "cell_type": "code",
   "execution_count": 32,
   "metadata": {},
   "outputs": [],
   "source": [
    "# Установка захвата видео\n",
    "cap = cv2.VideoCapture(video_name)\n",
    "# video = cv2.VideoWriter(\"G:/Programming/JML_contest/jml_sources/rat_detected.mp4\", -1, 1, (800, 600))\n",
    "\n",
    "# Массив координат обнаруженного объекта\n",
    "coords = []\n",
    "\n",
    "while True:\n",
    "    ret, frame = cap.read()\n",
    "    frame = cv2.resize(frame, (800, 600))\n",
    "    height, width, channels = frame.shape\n",
    "\n",
    "\n",
    "\n",
    "    # Обработка изображения YOLO\n",
    "    blob = cv2.dnn.blobFromImage(frame, 0.00392, (416, 416), (0, 0, 0), True, crop=False)\n",
    "    net.setInput(blob)\n",
    "    outs = net.forward(output_layers)\n",
    "\n",
    "    # Показываем информацию на экране\n",
    "    class_ids = []\n",
    "    confidences = []\n",
    "    boxes = []\n",
    "    for out in outs:\n",
    "        for detection in out:\n",
    "            scores = detection[5:]\n",
    "            class_id = np.argmax(scores)\n",
    "            confidence = scores[class_id]\n",
    "            if confidence > 0.5:\n",
    "                # Объект обнаружен\n",
    "                center_x = int(detection[0] * width)\n",
    "                center_y = int(detection[1] * height)\n",
    "                w = int(detection[2] * width)\n",
    "                h = int(detection[3] * height)\n",
    "\n",
    "                # Координаты прямоугольника\n",
    "                x = int(center_x - w / 2)\n",
    "                y = int(center_y - h / 2)\n",
    "\n",
    "                boxes.append([x, y, w, h])\n",
    "                confidences.append(float(confidence))\n",
    "                class_ids.append(class_id)\n",
    "\n",
    "    indexes = cv2.dnn.NMSBoxes(boxes, confidences, 0.5, 0.4)\n",
    "\n",
    "    font = cv2.FONT_HERSHEY_PLAIN\n",
    "    for i in range(len(boxes)):\n",
    "        if i in indexes:\n",
    "            x, y, w, h = boxes[i]\n",
    "            label = str(classes[class_ids[i]])\n",
    "            color = (0,255,0)  # Зеленый цвет\n",
    "            cv2.rectangle(frame, (x, y), (x + w, y + h), color, 2)\n",
    "            cv2.putText(frame, label, (x, y - 10), font, 1, color, 2)\n",
    "\n",
    "    # Добавляем координаты объекта в массив\n",
    "    coords.append((center_x, center_y))\n",
    "    if len(coords) < 1:\n",
    "        pass\n",
    "    else:\n",
    "        for i in range(len(coords)-1):\n",
    "            cv2.line(frame, coords[i], coords[i+1], (0, 255, 0), thickness=2)\n",
    "    \n",
    "    \n",
    "    cv2.imshow(\"Image\", frame)\n",
    "    key = cv2.waitKey(1)\n",
    "    if key == 27:  # Нажмите ESC для выхода\n",
    "        break\n",
    "\n",
    "# video.release()\n",
    "cap.release()\n",
    "cv2.destroyAllWindows()"
   ]
  }
 ],
 "metadata": {
  "kernelspec": {
   "display_name": "Python 3",
   "language": "python",
   "name": "python3"
  },
  "language_info": {
   "codemirror_mode": {
    "name": "ipython",
    "version": 3
   },
   "file_extension": ".py",
   "mimetype": "text/x-python",
   "name": "python",
   "nbconvert_exporter": "python",
   "pygments_lexer": "ipython3",
   "version": "3.11.2"
  },
  "orig_nbformat": 4
 },
 "nbformat": 4,
 "nbformat_minor": 2
}
