import cv2
import os

def get_frames():
    if not os.path.exists("images"):
            os.mkdir("images")
    cap = cv2.VideoCapture('G:/Programming/JML_contest/input_data/rat.mp4')
    i = 0
    # Сколько фреймов скипаем
    frame_skip = 10
    # Сколько фреймов сохранилось
    frame_count = 0
    while cap.isOpened():
        ret, frame = cap.read()
        if not ret:
            break
        if i > frame_skip - 1:
            frame_count += 1
            cv2.imwrite('images/test_'+str(frame_count*frame_skip)+'.jpg', frame)
            i = 0
            continue
        i += 1

    cap.release()
    cv2.destroyAllWindows()

get_frames()
