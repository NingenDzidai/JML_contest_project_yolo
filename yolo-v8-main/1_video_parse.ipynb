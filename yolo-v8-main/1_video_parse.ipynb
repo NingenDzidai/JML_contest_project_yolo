{
 "cells": [
  {
   "cell_type": "code",
   "execution_count": 3,
   "metadata": {},
   "outputs": [],
   "source": [
    "import cv2\n",
    "import os"
   ]
  },
  {
   "cell_type": "code",
   "execution_count": 6,
   "metadata": {},
   "outputs": [],
   "source": [
    "def get_frames():\n",
    "    if not os.path.exists(\"images\"):\n",
    "            os.mkdir(\"images\")\n",
    "    cap = cv2.VideoCapture('G:/Programming/JML_contest/input_data/rat.mp4')\n",
    "    i = 0\n",
    "    # Сколько фреймов скипаем\n",
    "    frame_skip = 10\n",
    "    # Сколько фреймов сохранилось\n",
    "    frame_count = 0\n",
    "    while cap.isOpened():\n",
    "        ret, frame = cap.read()\n",
    "        if not ret:\n",
    "            break\n",
    "        if i > frame_skip - 1:\n",
    "            frame_count += 1\n",
    "            cv2.imwrite('images/test_'+str(frame_count*frame_skip)+'.jpg', frame)\n",
    "            i = 0\n",
    "            continue\n",
    "        i += 1\n",
    "\n",
    "    cap.release()\n",
    "    cv2.destroyAllWindows()"
   ]
  },
  {
   "cell_type": "code",
   "execution_count": 7,
   "metadata": {},
   "outputs": [],
   "source": [
    "get_frames()"
   ]
  }
 ],
 "metadata": {
  "kernelspec": {
   "display_name": "Python 3",
   "language": "python",
   "name": "python3"
  },
  "language_info": {
   "codemirror_mode": {
    "name": "ipython",
    "version": 3
   },
   "file_extension": ".py",
   "mimetype": "text/x-python",
   "name": "python",
   "nbconvert_exporter": "python",
   "pygments_lexer": "ipython3",
   "version": "3.11.2"
  },
  "orig_nbformat": 4
 },
 "nbformat": 4,
 "nbformat_minor": 2
}
